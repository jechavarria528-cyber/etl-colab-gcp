{
  "nbformat": 4,
  "nbformat_minor": 0,
  "metadata": {
    "colab": {
      "provenance": [],
      "include_colab_link": true
    },
    "kernelspec": {
      "name": "python3",
      "display_name": "Python 3"
    },
    "language_info": {
      "name": "python"
    }
  },
  "cells": [
    {
      "cell_type": "markdown",
      "metadata": {
        "id": "view-in-github",
        "colab_type": "text"
      },
      "source": [
        "<a href=\"https://colab.research.google.com/github/jechavarria528-cyber/etl-colab-gcp/blob/main/Prueba_Tecnica_Coordinador_Inteligencia_Operativa.ipynb\" target=\"_parent\"><img src=\"https://colab.research.google.com/assets/colab-badge.svg\" alt=\"Open In Colab\"/></a>"
      ]
    },
    {
      "cell_type": "markdown",
      "source": [
        "****\n",
        "# 1. Analisis Exploratorio\n",
        "\n",
        "○ Identifique patrones y tendencias en los tiempos de reparación y costos.\n",
        "\n",
        "○ Detecte posibles anomalías o problemas operativos (ej: retrasos excesivos,\n",
        "variaciones en costos).\n",
        "\n",
        "○ Plantee posibles alternativas de mejora\n",
        "\n"
      ],
      "metadata": {
        "id": "MsidXtUCoHsx"
      }
    },
    {
      "cell_type": "code",
      "source": [
        "# @title Librerias a Utilizar\n",
        "!pip install pandas\n",
        "import pandas as pd\n",
        "!pip install numpy\n",
        "import statistics"
      ],
      "metadata": {
        "id": "ohfna5ChovR2",
        "cellView": "form"
      },
      "execution_count": null,
      "outputs": []
    },
    {
      "cell_type": "code",
      "source": [
        "base = pd.read_excel('/content/Base prueba Tecnica.xlsx')"
      ],
      "metadata": {
        "id": "EwsqnjGVcpLF"
      },
      "execution_count": null,
      "outputs": []
    },
    {
      "cell_type": "code",
      "source": [
        "# @title Limpieza de datos\n",
        "base = pd.read_excel('/content/Base prueba Tecnica.xlsx')\n",
        "print(base.dtypes['FECHA_INGRESO_TALLER_MAX'])\n",
        "base['INGRESO_TALLER'] = base['FECHA_INGRESO_TALLER_MAX'].notna().astype(int)\n",
        "\n",
        "base['DEDUCIBLE'] = pd.to_numeric(base['DEDUCIBLE'].astype(str).str.replace(',',''),errors='coerce')\n",
        "##########################################################################################################\n",
        "\n",
        "base['TIEMPO_PINTURA'] = pd.to_numeric(base['TIEMPO_PINTURA'], errors='coerce')\n",
        "print(base.dtypes['TIEMPO_PINTURA'])\n",
        "\n",
        "\n",
        "mean_tiempo_pintura = base['TIEMPO_PINTURA'].mean()\n",
        "\n",
        "\n",
        "base['TIEMPO_PINTURA'] = base.apply(lambda row: 0 if (pd.isnull(row['SUB_ESTADO_AVISO']) or row['SUB_ESTADO_AVISO'] == '' or pd.isnull(row['FECHA_INGRESO_TALLER_MAX'])) else row['TIEMPO_PINTURA'], axis=1)\n",
        "\n",
        "\n",
        "base['TIEMPO_PINTURA'].fillna(mean_tiempo_pintura, inplace=True)\n",
        "\n",
        "##########################################################################################################\n",
        "\n",
        "base['TIEMPO_REPA_LATONERIA'] = pd.to_numeric(base['TIEMPO_REPA_LATONERIA'], errors='coerce')\n",
        "print(base.dtypes['TIEMPO_REPA_LATONERIA'])\n",
        "\n",
        "mean_tiempo_pintura = base['TIEMPO_REPA_LATONERIA'].mean()\n",
        "\n",
        "\n",
        "base['TIEMPO_REPA_LATONERIA'] = base.apply(lambda row: 0 if (pd.isnull(row['SUB_ESTADO_AVISO']) or row['SUB_ESTADO_AVISO'] == '' or pd.isnull(row['FECHA_INGRESO_TALLER_MAX'])) else row['TIEMPO_REPA_LATONERIA'], axis=1)\n",
        "\n",
        "\n",
        "base['TIEMPO_REPA_LATONERIA'].fillna(mean_tiempo_pintura, inplace=True)\n",
        "#############################################################################################################3\n",
        "\n",
        "base['TIEMPO_SUST_CARROCERIA'] = pd.to_numeric(base['TIEMPO_SUST_CARROCERIA'], errors='coerce')\n",
        "print(base.dtypes['TIEMPO_SUST_CARROCERIA'])\n",
        "mean_tiempo_pintura = base['TIEMPO_SUST_CARROCERIA'].mean()\n",
        "\n",
        "\n",
        "base['TIEMPO_SUST_CARROCERIA'] = base.apply(lambda row: 0 if (pd.isnull(row['SUB_ESTADO_AVISO']) or row['SUB_ESTADO_AVISO'] == '' or pd.isnull(row['FECHA_INGRESO_TALLER_MAX'])) else row['TIEMPO_SUST_CARROCERIA'], axis=1)\n",
        "\n",
        "base['TIEMPO_SUST_CARROCERIA'].fillna(mean_tiempo_pintura, inplace=True)\n",
        "\n",
        "#############################################################################################################3\n",
        "print(base.dtypes['SUB_ESTADO_AVISO'])\n",
        "base['SUB_ESTADO_AVISO'].fillna('SIN_ESTADO', inplace=True)\n",
        "\n",
        "\n",
        "\n",
        "print(base.dtypes['TIPO_VEHICULO'])\n",
        "base['TIPO_VEHICULO'].fillna('DESCONOCIDO', inplace=True)\n",
        "\n",
        "\n",
        "\n",
        "print(base.dtypes['LINEA_VEHICULO'])\n",
        "base['LINEA_VEHICULO'].fillna('DESCONOCIDO', inplace=True)\n",
        "\n",
        "\n",
        "print(base.dtypes['ANIO_VEHICULO'])\n",
        "base['ANIO_VEHICULO'].fillna(0, inplace=True)\n",
        "\n",
        "print(base.dtypes['CLASIFICACION_VEHICULO'])\n",
        "base['CLASIFICACION_VEHICULO'].fillna('DESCONOCIDO', inplace=True)\n",
        "\n",
        "\n",
        "\n",
        "\n",
        "\n"
      ],
      "metadata": {
        "id": "X8aOsTkFqwW3",
        "cellView": "form"
      },
      "execution_count": null,
      "outputs": []
    },
    {
      "cell_type": "markdown",
      "source": [
        "-Identifique patrones y tendencias en los tiempos de reparación y costos."
      ],
      "metadata": {
        "id": "RKxq8wTKVldw"
      }
    },
    {
      "cell_type": "code",
      "source": [
        "# @title Graficos Reparaciones y Costos\n",
        "######### REPARACION\n",
        "\n",
        "print(base.groupby('TIPO_TALLER')[['TIEMPO_PINTURA', 'TIEMPO_REPA_LATONERIA', 'TIEMPO_SUST_CARROCERIA']].mean().plot(kind='bar'))\n",
        "print(base.groupby('TIPO_VEHICULO')[['TIEMPO_PINTURA', 'TIEMPO_REPA_LATONERIA', 'TIEMPO_SUST_CARROCERIA']].mean().plot(kind='bar'))\n",
        "print(base.groupby('CIUDAD_TALLER')[['TIEMPO_PINTURA', 'TIEMPO_REPA_LATONERIA', 'TIEMPO_SUST_CARROCERIA']].mean().plot(kind='bar', figsize=(20, 6)))\n",
        "\n",
        "\n",
        "###################### COSTO\n",
        "\n",
        "import matplotlib.pyplot as plt\n",
        "\n",
        "ax = base.groupby('TIPO_TALLER')[\n",
        "    ['DEDUCIBLE','VALOR_NETO_MANO_OBRA','VALOR_NETO_AUTOSUMINISTRO',\n",
        "     'VALOR_NETO_MOSTRADOR','VALOR_NETO_REPARACIONES','VALOR_NETO_REPUESTOS',\n",
        "     'VALOR_NETO_RESPUESTOS_TOTAL','VALOR_NETO_TOTAL']\n",
        "].mean().sort_values(by='VALOR_NETO_TOTAL').plot(kind='barh', figsize=(12, 6))\n",
        "plt.legend(fontsize=8)\n",
        "\n",
        "# Mostrar el gráfico POR TIPO TALLER\n",
        "plt.tight_layout()\n",
        "print(plt.show())\n",
        "\n",
        "ax = base.groupby('TIPO_VEHICULO')[\n",
        "    ['DEDUCIBLE','VALOR_NETO_MANO_OBRA','VALOR_NETO_AUTOSUMINISTRO',\n",
        "     'VALOR_NETO_MOSTRADOR','VALOR_NETO_REPARACIONES','VALOR_NETO_REPUESTOS',\n",
        "     'VALOR_NETO_RESPUESTOS_TOTAL','VALOR_NETO_TOTAL']\n",
        "].mean().sort_values(by='VALOR_NETO_TOTAL').plot(kind='barh', figsize=(12, 12))\n",
        "plt.legend(fontsize=8)\n",
        "\n",
        "# Mostrar el gráfico POR TIPO VEHICULO\n",
        "plt.tight_layout()\n",
        "print(plt.show())\n",
        "\n",
        "\n",
        "ax = base.groupby('CLASIFICACION_VEHICULO')[\n",
        "    ['DEDUCIBLE','VALOR_NETO_MANO_OBRA','VALOR_NETO_AUTOSUMINISTRO',\n",
        "     'VALOR_NETO_MOSTRADOR','VALOR_NETO_REPARACIONES','VALOR_NETO_REPUESTOS',\n",
        "     'VALOR_NETO_RESPUESTOS_TOTAL','VALOR_NETO_TOTAL']\n",
        "].mean().sort_values(by='VALOR_NETO_TOTAL').plot(kind='barh', figsize=(12, 6))\n",
        "plt.legend(fontsize=8)\n",
        "\n",
        "# Mostrar el gráfico POR CLASIFICACION VECHICULO\n",
        "plt.tight_layout()\n",
        "print(plt.show())"
      ],
      "metadata": {
        "id": "z_U8nCLJ3OQ4",
        "cellView": "form"
      },
      "execution_count": null,
      "outputs": []
    },
    {
      "cell_type": "markdown",
      "source": [
        "-KPIs y Modelos de Monitoreo de Pérdidas Parciales\n"
      ],
      "metadata": {
        "id": "2oGjZT6xw5F7"
      }
    },
    {
      "cell_type": "code",
      "source": [
        "# @title KPIS de peritos, Talleres y Proovedores\n",
        "base['KPI_N1'] = base['FECHA_INGRESO_TALLER_MAX'] - base['FECHA_CREACION_AVISO']\n",
        "base['KPI_N1'] = base['KPI_N1'].dt.days\n",
        "\n",
        "media_kpi1 = base['KPI_N1'].mean()\n",
        "base['ALERTA_KPI_N1'] = base['KPI_N1'].apply(lambda x: '⚠️ Demora ingreso taller' if x > media_kpi1 else 'Sin Alerta')\n",
        "\n",
        "#####################################\n",
        "\n",
        "base['KPI_N2'] = base['FECHA_CIERRE_AVISO'] - base['FECHA_INGRESO_TALLER_MAX']\n",
        "base['KPI_N2'] = base['KPI_N2'].dt.days\n",
        "media_kpi2 = base['KPI_N2'].mean()\n",
        "\n",
        "\n",
        "base['ALERTA_KPI_N2'] = base['KPI_N2'].apply(lambda x: '⚠️ Demora reparación taller' if x > media_kpi2 else 'Sin Alerta')\n",
        "\n",
        "#####################################\n",
        "\n",
        "KPI_N3 = base.groupby('TALLER')['VALOR_NETO_REPUESTOS'].std().reset_index()\n",
        "media_repuestos = base.groupby('TALLER')['VALOR_NETO_REPUESTOS'].mean().reset_index(name='MEDIA_REPUESTOS')\n",
        "\n",
        "\n",
        "std_repuestos = base.groupby('TALLER')['VALOR_NETO_REPUESTOS'].std().reset_index(name='STD_REPUESTOS')\n",
        "\n",
        "\n",
        "base = base.merge(media_repuestos, on='TALLER', how='left')\n",
        "base = base.merge(std_repuestos, on='TALLER', how='left')\n",
        "\n",
        "# Alerta si el valor de los repuestos está fuera de rango (más de 1 desviación estándar)\n",
        "base['ALERTA_KPI_N3'] = base.apply(\n",
        "    lambda row: '⚠️ Variabilidad inusual repuestos'\n",
        "    if abs(row['VALOR_NETO_REPUESTOS'] - row['MEDIA_REPUESTOS']) > row['STD_REPUESTOS'] else 'Sin Alerta', axis=1\n",
        ")\n"
      ],
      "metadata": {
        "id": "k6U08soiWYDt",
        "cellView": "form"
      },
      "execution_count": null,
      "outputs": []
    },
    {
      "cell_type": "code",
      "source": [
        "# @title Cuellos de botella\n",
        "\n",
        "Cuellos_botella = (base['ALERTA_KPI_N1'] == '⚠️ Demora ingreso taller') & (base['ALERTA_KPI_N2'] == '⚠️ Demora reparación taller') & (base['ALERTA_KPI_N3'] == '⚠️ Variabilidad inusual repuestos')\n",
        "\n",
        "\n",
        "Cuellos_botella = base[Cuellos_botella]\n",
        "\n",
        "Cuellos_botella"
      ],
      "metadata": {
        "cellView": "form",
        "id": "I71QSJp7Ad0J"
      },
      "execution_count": null,
      "outputs": []
    },
    {
      "cell_type": "markdown",
      "source": [
        "\n",
        "## 2: Estrategia Analítica e Inteligencia Artificial\n",
        "\n",
        "\n",
        "\n",
        "\n"
      ],
      "metadata": {
        "id": "kRbDX-QgISBl"
      }
    },
    {
      "cell_type": "code",
      "source": [
        "# @title Modelo de Machine Learning No supervisado\n",
        "import pandas as pd\n",
        "from sklearn.ensemble import IsolationForest\n",
        "import numpy as np\n",
        "\n",
        "\n",
        "base['FECHA_CREACION_AVISO'] = pd.to_datetime(base['FECHA_CREACION_AVISO'])\n",
        "base['FECHA_INGRESO_TALLER_MAX'] = pd.to_datetime(base['FECHA_INGRESO_TALLER_MAX'])\n",
        "base['FECHA_CIERRE_AVISO'] = pd.to_datetime(base['FECHA_CIERRE_AVISO'])\n",
        "\n",
        "\n",
        "base['TIEMPO_TOTAL_REPARACION'] = (base['FECHA_CIERRE_AVISO'] - base['FECHA_INGRESO_TALLER_MAX']).dt.days\n",
        "base['TIEMPO_TOTAL_INICIO'] = (base['FECHA_INGRESO_TALLER_MAX'] - base['FECHA_CREACION_AVISO']).dt.days\n",
        "\n",
        "\n",
        "variables_modelo = base[[\n",
        "    'TIEMPO_PINTURA',\n",
        "    'TIEMPO_REPA_LATONERIA',\n",
        "    'TIEMPO_SUST_CARROCERIA',\n",
        "    'VALOR_NETO_TOTAL',\n",
        "    'TIEMPO_TOTAL_REPARACION',\n",
        "    'TIEMPO_TOTAL_INICIO'\n",
        "]].dropna()\n",
        "\n",
        "modelo = IsolationForest(n_estimators=100, contamination=0.05, random_state=42)\n",
        "modelo.fit(variables_modelo)\n",
        "\n",
        "\n",
        "predicciones = modelo.predict(variables_modelo)\n",
        "\n",
        "\n",
        "base.loc[variables_modelo.index, 'ES_ANOMALIA'] = np.where(predicciones == -1, 'Sí', 'No')\n",
        "Alertas_ANOMALAS = base[base['ES_ANOMALIA'] == 'Sí']\n",
        "Alertas_ANOMALAS.to_excel('Alertas_ANOMALAS.xlsx', index=False)"
      ],
      "metadata": {
        "cellView": "form",
        "id": "UPeDh62xIc53"
      },
      "execution_count": null,
      "outputs": []
    },
    {
      "cell_type": "markdown",
      "source": [
        "## 3: Pricing y Evaluación de Rentabilidad\n"
      ],
      "metadata": {
        "id": "wrmLHAhKR_Nh"
      }
    },
    {
      "cell_type": "code",
      "source": [
        "# @title Analisis de costos e imapcto rentabilidad : Con base en los datos entregados, identifique qué factores están afectando los costos de indemnización.\n",
        "\n",
        "# Talleres que cobran mas\n",
        "\n",
        "promedios_taller = Cuellos_botella.groupby('TALLER')['VALOR_NETO_TOTAL'].mean().reset_index()\n",
        "promedios_taller = promedios_taller.sort_values(by='VALOR_NETO_TOTAL', ascending=False)\n",
        "promedio_general = Cuellos_botella['VALOR_NETO_TOTAL'].mean()\n",
        "promedios_taller['SOBRE_PROMEDIO'] = promedios_taller['VALOR_NETO_TOTAL'] > promedio_general\n",
        "promedios_taller = promedios_taller.sort_values(by='VALOR_NETO_TOTAL', ascending=False)\n",
        "print(promedios_taller.head(5))\n",
        "\n",
        "## ciudades\n",
        "\n",
        "promedios_ciudad = Cuellos_botella.groupby('CIUDAD_TALLER')['VALOR_NETO_TOTAL'].mean().reset_index()\n",
        "promedios_ciudad = promedios_ciudad.sort_values(by='VALOR_NETO_TOTAL', ascending=False)\n",
        "promedio_general = Cuellos_botella['VALOR_NETO_TOTAL'].mean()\n",
        "promedios_ciudad['SOBRE_PROMEDIO'] = promedios_ciudad['VALOR_NETO_TOTAL'] > promedio_general\n",
        "promedios_ciudad = promedios_ciudad.sort_values(by='VALOR_NETO_TOTAL', ascending=False)\n",
        "print(promedios_ciudad.head(5))\n",
        "\n",
        "\n",
        "## Vechiculos\n",
        "\n",
        "promedios_vechiculo = Cuellos_botella.groupby('TIPO_VEHICULO')['VALOR_NETO_TOTAL'].mean().reset_index()\n",
        "promedios_vechiculo = promedios_vechiculo.sort_values(by='VALOR_NETO_TOTAL', ascending=False)\n",
        "promedio_general = Cuellos_botella['VALOR_NETO_TOTAL'].mean()\n",
        "promedios_vechiculo['SOBRE_PROMEDIO'] = promedios_vechiculo['VALOR_NETO_TOTAL'] > promedio_general\n",
        "promedios_vechiculo = promedios_vechiculo.sort_values(by='VALOR_NETO_TOTAL', ascending=False)\n",
        "print(promedios_vechiculo.head(5))"
      ],
      "metadata": {
        "cellView": "form",
        "id": "920D_71TSD0U"
      },
      "execution_count": null,
      "outputs": []
    }
  ]
}